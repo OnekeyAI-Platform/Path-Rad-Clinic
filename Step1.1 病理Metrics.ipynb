{
 "cells": [
  {
   "cell_type": "markdown",
   "id": "ef92c15d",
   "metadata": {},
   "source": [
    "## Metrics\n",
    "\n",
    "汇总常见2分类的指标，例如: AUC，ROC曲线，ACC, 敏感性， 特异性，精确度，召回率，PPV, NPV, F1\n",
    "\n",
    "具体的介绍，可以参考一下：https://blog.csdn.net/sunflower_sara/article/details/81214897"
   ]
  },
  {
   "cell_type": "code",
   "execution_count": null,
   "id": "58a846b4",
   "metadata": {},
   "outputs": [],
   "source": [
    "import numpy  as np\n",
    "import os\n",
    "from onekey_algo.custom.components.ugly import drop_error\n",
    "import numpy as np\n",
    "from onekey_algo.custom.components import metrics\n",
    "from onekey_algo.custom.components.comp1 import draw_roc\n",
    "import matplotlib.pyplot as plt\n",
    "import pandas as pd\n",
    "\n",
    "metric_results = []\n",
    "resnet50 = []\n",
    "for model in ['resnet50']:\n",
    "    train_log_path = rf'D:/20221004-ChenRui/models/20230206/resnet50\\viz/BST_TRAIN_RESULTS.txt'\n",
    "    train_log = pd.read_csv(train_log_path, names=['ID', 'pred_score', 'pred_label', 'gt'], sep='\\t')\n",
    "    print(train_log.shape)\n",
    "    val_log_path = rf'D:\\20221004-ChenRui\\models\\20230206\\resnet50\\viz/BST_VAL_RESULTS.txt'\n",
    "    val_log_ = pd.read_csv(val_log_path, names=['ID', 'pred_score', 'pred_label', 'gt'], sep='\\t')\n",
    "    log = pd.concat([train_log, val_log_], axis=0)\n",
    "    \n",
    "    all_pred = []\n",
    "    all_gt = []\n",
    "    for val_log, subset in zip([train_log, val_log_], ['Training', 'Test']):\n",
    "        ul_labels = np.unique(val_log['pred_label'])\n",
    "        pred_score = list(map(lambda x: x[0] if x[1] == 1 else 1-x[0], np.array(val_log[['pred_score', 'pred_label']])))\n",
    "        gt = [1 if gt_ == 1 else 0 for gt_ in np.array(val_log['gt'])]\n",
    "#         print(len(pred_score))\n",
    "        acc, auc, ci, tpr, tnr, ppv, npv, precision, recall, f1, thres = metrics.analysis_pred_binary(gt, pred_score, use_youden=False)\n",
    "        ci = f\"{ci[0]:.4f}-{ci[1]:.4f}\"\n",
    "        metric_results.append([model, acc, auc, ci, tpr, tnr, ppv, npv, precision, recall, f1, thres, subset])\n",
    "        \n",
    "        all_pred.append(np.array(list(map(lambda x: (1-x[0], x[0]) if x[1] == 1 else (x[0], 1-x[0]), \n",
    "                                          np.array(val_log[['pred_score', 'pred_label']])))))\n",
    "        all_gt.append(gt)\n",
    "        \n",
    "    draw_roc(all_gt[:2], all_pred[:2], labels=['Train', 'Val'], title=f\"Model: {model}\")\n",
    "    plt.savefig(f'img/Supervised_DL_model_{model}_roc.svg', bbox_inches = 'tight')\n",
    "    plt.show()\n",
    "metrics = pd.DataFrame(metric_results, \n",
    "             columns=['ModelName', 'Acc', 'AUC',  '95% CI', 'Sensitivity', 'Specificity', 'PPV', 'NPV', \n",
    "                      'Precision', 'Recall', 'F1', 'Threshold', 'Cohort'])\n",
    "metrics"
   ]
  },
  {
   "cell_type": "code",
   "execution_count": null,
   "id": "61f26578",
   "metadata": {},
   "outputs": [],
   "source": [
    "val_log_path = rf'D:\\20221004-ChenRui\\models\\20230206\\resnet50\\viz/BST_TRAIN_RESULTS.txt'\n",
    "val_log_ = pd.read_csv(val_log_path, names=['ID', 'pred_score', 'pred_label', 'gt'], sep='\\t')\n",
    "np.sum(val_log_['pred_label'] == val_log_['gt'])/val_log_.shape[0]"
   ]
  },
  {
   "cell_type": "code",
   "execution_count": null,
   "id": "3a828f5c",
   "metadata": {},
   "outputs": [],
   "source": [
    "val_log_"
   ]
  },
  {
   "cell_type": "code",
   "execution_count": null,
   "id": "933925dc",
   "metadata": {},
   "outputs": [],
   "source": [
    "import numpy  as np\n",
    "import os\n",
    "from onekey_algo.custom.components.ugly import drop_error\n",
    "import numpy as np\n",
    "from onekey_algo.custom.components import metrics\n",
    "from onekey_algo.custom.components.comp1 import draw_roc\n",
    "import matplotlib.pyplot as plt\n",
    "import pandas as pd\n",
    "\n",
    "metric_results = []\n",
    "resnet50 = []\n",
    "for model in ['resnet50']:\n",
    "    train_log_path = rf'D:/20221004-ChenRui/models/20230208/resnet50\\viz/BST_TRAIN_RESULTS.txt'\n",
    "    train_log = pd.read_csv(train_log_path, names=['ID', 'pred_score', 'pred_label', 'gt'], sep='\\t')\n",
    "    val_log_path = rf'D:\\20221004-ChenRui\\models\\20230208\\resnet50\\viz/BST_VAL_RESULTS.txt'\n",
    "    val_log_ = pd.read_csv(val_log_path, names=['ID', 'pred_score', 'pred_label', 'gt'], sep='\\t')\n",
    "    log = pd.concat([train_log, val_log_], axis=0)\n",
    "    \n",
    "    all_pred = []\n",
    "    all_gt = []\n",
    "    for val_log, subset in zip([train_log, val_log_], ['Training', 'Test']):\n",
    "        ul_labels = np.unique(val_log['pred_label'])\n",
    "        pred_score = list(map(lambda x: x[0] if x[1] == 1 else 1-x[0], np.array(val_log[['pred_score', 'pred_label']])))\n",
    "        gt = [1 if gt_ == 1 else 0 for gt_ in np.array(val_log['gt'])]\n",
    "#         print(len(pred_score))\n",
    "        acc, auc, ci, tpr, tnr, ppv, npv, precision, recall, f1, thres = metrics.analysis_pred_binary(gt, pred_score, use_youden=False)\n",
    "        ci = f\"{ci[0]:.4f}-{ci[1]:.4f}\"\n",
    "        metric_results.append([model, acc, auc, ci, tpr, tnr, ppv, npv, precision, recall, f1, thres, subset])\n",
    "        \n",
    "        all_pred.append(np.array(list(map(lambda x: (1-x[0], x[0]) if x[1] == 1 else (x[0], 1-x[0]), \n",
    "                                          np.array(val_log[['pred_score', 'pred_label']])))))\n",
    "        all_gt.append(gt)\n",
    "        \n",
    "    draw_roc(all_gt[:2], all_pred[:2], labels=['Train', 'Val'], title=f\"Model: {model}\")\n",
    "    plt.savefig(f'img/UnSupervised_DL_model_{model}_roc.svg', bbox_inches = 'tight')\n",
    "    plt.show()\n",
    "metrics = pd.DataFrame(metric_results, \n",
    "             columns=['ModelName', 'Acc', 'AUC', '95% CI', 'Sensitivity', 'Specificity', 'PPV', 'NPV', \n",
    "                      'Precision', 'Recall', 'F1', 'Threshold', 'Cohort'])\n",
    "metrics"
   ]
  },
  {
   "cell_type": "code",
   "execution_count": null,
   "id": "8fb531de",
   "metadata": {},
   "outputs": [],
   "source": []
  }
 ],
 "metadata": {
  "kernelspec": {
   "display_name": "Python 3 (ipykernel)",
   "language": "python",
   "name": "python3"
  },
  "language_info": {
   "codemirror_mode": {
    "name": "ipython",
    "version": 3
   },
   "file_extension": ".py",
   "mimetype": "text/x-python",
   "name": "python",
   "nbconvert_exporter": "python",
   "pygments_lexer": "ipython3",
   "version": "3.7.12"
  }
 },
 "nbformat": 4,
 "nbformat_minor": 5
}
