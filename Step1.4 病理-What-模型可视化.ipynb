{
 "cells": [
  {
   "cell_type": "markdown",
   "id": "45ff14a2",
   "metadata": {},
   "source": [
    "## What可视化\n",
    "\n",
    "2D Grand CAM可视化模块"
   ]
  },
  {
   "cell_type": "code",
   "execution_count": null,
   "id": "a7fa11b3",
   "metadata": {},
   "outputs": [],
   "source": [
    "import os\n",
    "os.environ['KMP_DUPLICATE_LIB_OK'] = 'True'\n",
    "\n",
    "import monai\n",
    "from glob import glob\n",
    "import matplotlib.pyplot as plt\n",
    "\n",
    "mydir = r'D:\\20221004-ChenRui\\Appendix\\for_viz'\n",
    "samples = glob(os.path.join(mydir, '*', '*.png'))\n",
    "samples"
   ]
  },
  {
   "cell_type": "markdown",
   "id": "a23129e7",
   "metadata": {},
   "source": [
    "## 确定可视化模型\n",
    "\n",
    "通过关键词获取要提取那一层进行可视化。\n",
    "\n",
    "### 支持的模型名称\n",
    "\n",
    "模型名称替换代码中的 `model_name`变量的值。\n",
    "\n",
    "| **模型系列** | **模型名称**                                                 |\n",
    "| ------------ | ------------------------------------------------------------ |\n",
    "| AlexNet      | alexnet                                                      |\n",
    "| VGG          | vgg11, vgg11_bn, vgg13, vgg13_bn, vgg16, vgg16_bn, vgg19_bn, vgg19 |\n",
    "| ResNet       | resnet18, resnet34, resnet50, resnet101, resnet152, resnext50_32x4d, resnext101_32x8d, wide_resnet50_2, wide_resnet101_2 |\n",
    "| DenseNet     | densenet121, densenet169, densenet201, densenet161           |\n",
    "| Inception    | googlenet, inception_v3                                      |\n",
    "| SqueezeNet   | squeezenet1_0, squeezenet1_1                                 |\n",
    "| ShuffleNetV2 | shufflenet_v2_x2_0, shufflenet_v2_x0_5, shufflenet_v2_x1_0, shufflenet_v2_x1_5 |\n",
    "| MobileNet    | mobilenet_v2, mobilenet_v3_large, mobilenet_v3_small         |\n",
    "| MNASNet      | mnasnet0_5, mnasnet0_75, mnasnet1_0, mnasnet1_3              |"
   ]
  },
  {
   "cell_type": "code",
   "execution_count": null,
   "id": "6f9a9194",
   "metadata": {},
   "outputs": [],
   "source": [
    "from onekey_algo.custom.components.comp2 import extract, init_from_model, init_from_onekey\n",
    "\n",
    "model, transformer, device = init_from_onekey(r'D:\\20221004-ChenRui\\models\\20230118\\resnet50\\viz')\n",
    "for n, m in model.named_modules():\n",
    "    print('Feature name:', n, \"|| Module:\", m)"
   ]
  },
  {
   "cell_type": "markdown",
   "id": "e46336a1",
   "metadata": {},
   "source": [
    "## 可视化卷积层\n",
    "\n",
    "`Feature name:` 之后的名称为要可视化的层，例如`layer4.2.conv3`, 一般深度学习特征提取最后一层卷积层\n",
    "\n",
    "** 注意 ** : 可视化的层，一定为带有`conv`的卷积层，而且一般是最后一层。"
   ]
  },
  {
   "cell_type": "code",
   "execution_count": null,
   "id": "b9d9ad6f",
   "metadata": {},
   "outputs": [],
   "source": [
    "target_layer = \"layer4.2.conv3\"\n",
    "gradcam = monai.visualize.GradCAM(nn_module=model, target_layers=target_layer)"
   ]
  },
  {
   "cell_type": "markdown",
   "id": "39c9708b",
   "metadata": {},
   "source": [
    "## 打印可视化界面"
   ]
  },
  {
   "cell_type": "code",
   "execution_count": null,
   "id": "e9eb2b98",
   "metadata": {
    "scrolled": true
   },
   "outputs": [],
   "source": [
    "from onekey_algo.datasets.image_loader import default_loader\n",
    "from onekey_algo.custom.components.comp2 import show_cam_on_image\n",
    "import torch\n",
    "import os\n",
    "import random\n",
    "import gc\n",
    "import matplotlib\n",
    "matplotlib.use('Agg') \n",
    "\n",
    "\n",
    "random.shuffle(samples)\n",
    "save_dir = 'D:/20221004-ChenRui/models/20230118/resnet50/Grad-CAM_Small'\n",
    "for sample in samples:\n",
    "    save2 = f\"{save_dir}/{os.path.basename(os.path.dirname(sample))}\"\n",
    "    if os.path.exists(f'{save2}/{os.path.basename(sample)}'):\n",
    "        continue\n",
    "    os.makedirs(save2, exist_ok=True)\n",
    "    img = default_loader(sample)\n",
    "    sample_ = transformer(img)\n",
    "    sample_  = sample_.view(1, *sample_.size()).to(device)\n",
    "    res_cam = gradcam(x=sample_, class_idx=None)\n",
    "    fig, axes = plt.subplots(1, 2, figsize=(20, 10), facecolor='white')\n",
    "#     axes[0].imshow(-res_cam[0][0].cpu(), cmap='jet')\n",
    "    axes[0].imshow(img.resize(sample_.size()[2:]))\n",
    "    axes[0].axis('off')\n",
    "#     plt.savefig(f\"viz/{os.path.basename(sample).replace('.png', '_se.png')}\", bbox_inches = 'tight')\n",
    "#     plt.show()\n",
    "#     plt.figure(figsize=(10, 10))\n",
    "#     plt.axis('off')\n",
    "    imshow = axes[1].imshow(show_cam_on_image(img.resize(sample_.size()[2:]), -res_cam[0][0].cpu(), use_rgb=True, reverse=False), \n",
    "                            cmap='jet')\n",
    "    axes[1].axis('off')\n",
    "    cax = fig.add_axes([0.92, 0.15, 0.02, axes[1].get_position().height]) \n",
    "    plt.colorbar(imshow, cax=cax)\n",
    "    plt.savefig(f'{save2}/{os.path.basename(sample)}', bbox_inches = 'tight')\n",
    "    plt.clf()\n",
    "    plt.close(fig)\n",
    "    del sample_, imshow\n",
    "    gc.collect()"
   ]
  },
  {
   "cell_type": "code",
   "execution_count": null,
   "id": "80afc4e8",
   "metadata": {},
   "outputs": [],
   "source": [
    "device"
   ]
  },
  {
   "cell_type": "code",
   "execution_count": null,
   "id": "5048302a",
   "metadata": {},
   "outputs": [],
   "source": [
    "import pandas as pd\n",
    "import seaborn as sns\n",
    "import matplotlib.pyplot as plt\n",
    "plt.rcParams['figure.dpi'] = 300\n",
    "data = pd.read_csv(r'D:\\20221004-ChenRui\\models\\20230118\\resnet50\\viz/training_log.txt')[::10]\n",
    "# data = data[['Loss', 'Acc@1']]\n",
    "\n",
    "fig, ax1 = plt.subplots()\n",
    "color = 'tab:red'\n",
    "ax1.set_xlabel('iters')\n",
    "ax1.set_ylabel('Traning Loss', color=color)\n",
    "ax1.plot(data['Iters'], data['Loss'], color=color)\n",
    "ax1.tick_params(axis='y')\n",
    "\n",
    "ax2 = ax1.twinx()  # instantiate a second axes that shares the same x-axis\n",
    "\n",
    "color = 'tab:blue'\n",
    "ax2.set_ylabel('Acc@1', color=color)  # we already handled the x-label with ax1\n",
    "ax2.plot(data['Iters'], data['Acc@1'], color=color)\n",
    "ax2.tick_params(axis='y')\n",
    "\n",
    "fig.tight_layout()  # otherwise the right y-label is slightly clipped\n",
    "plt.savefig(f'img/Path_train.svg', bbox_inches = 'tight')"
   ]
  },
  {
   "cell_type": "code",
   "execution_count": null,
   "id": "4bb8ef50",
   "metadata": {},
   "outputs": [],
   "source": [
    "data"
   ]
  },
  {
   "cell_type": "code",
   "execution_count": null,
   "id": "98a98af7",
   "metadata": {},
   "outputs": [],
   "source": [
    "from PIL import Image\n",
    "from glob import glob\n",
    "\n",
    "samples = glob(r'D:/20221004-ChenRui/models/20230118/resnet50/Grad-CAM/*/*.jpg')\n",
    "for sample in samples:\n",
    "    img = Image.open(sample)\n",
    "    print(sample)\n",
    "    img = img.resize((img.size[0]//4, img.size[1]//4))\n",
    "    img.save(sample)"
   ]
  },
  {
   "cell_type": "code",
   "execution_count": null,
   "id": "364a88f9",
   "metadata": {},
   "outputs": [],
   "source": []
  }
 ],
 "metadata": {
  "kernelspec": {
   "display_name": "Python 3 (ipykernel)",
   "language": "python",
   "name": "python3"
  },
  "language_info": {
   "codemirror_mode": {
    "name": "ipython",
    "version": 3
   },
   "file_extension": ".py",
   "mimetype": "text/x-python",
   "name": "python",
   "nbconvert_exporter": "python",
   "pygments_lexer": "ipython3",
   "version": "3.7.12"
  }
 },
 "nbformat": 4,
 "nbformat_minor": 5
}
