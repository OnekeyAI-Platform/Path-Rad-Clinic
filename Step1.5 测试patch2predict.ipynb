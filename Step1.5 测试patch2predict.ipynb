{
 "cells": [
  {
   "cell_type": "code",
   "execution_count": null,
   "id": "353e9fde",
   "metadata": {
    "scrolled": false
   },
   "outputs": [],
   "source": [
    "from collections import Counter\n",
    "from functools import reduce\n",
    "\n",
    "import numpy as np\n",
    "import pandas as pd\n",
    "from PIL import Image, ImageStat\n",
    "import math\n",
    "\n",
    "def brightness( im_file ):\n",
    "   im = Image.open(im_file)\n",
    "   stat = ImageStat.Stat(im)\n",
    "   r,g,b = stat.mean\n",
    "   return math.sqrt(0.241*(r**2) + 0.691*(g**2) + 0.068*(b**2))\n",
    "\n",
    "def calc_sample(fpath, pixel_threshold=235, ratio_threshold=0.9, **kwargs):\n",
    "    img = Image.open(fpath).convert('P')\n",
    "    display(img)\n",
    "    img_arr = np.array(img)\n",
    "#     print(img_arr.shape)\n",
    "    count = sorted(Counter(img_arr.reshape(-1)).items(), key=lambda x: x[1], reverse=True)\n",
    "    hist = sum(v for k, v in count if k >= pixel_threshold) / reduce(lambda x, y: x * y, img_arr.shape)\n",
    "    verbose = kwargs.get('verbose', False)\n",
    "    del_image = kwargs.get('del_image', False)\n",
    "    if del_image and hist > ratio_threshold:\n",
    "        os.remove(fpath)\n",
    "    if verbose:\n",
    "        print(count)\n",
    "        print(fpath, \"ratio:\", )\n",
    "    return hist < ratio_threshold, hist, count\n",
    "\n",
    "root = r'D:\\20221004-ChenRui\\for_viz\\N161393 B5/N161393 B5_52224_32256_9216_27648_9728_28160.jpg'\n",
    "\n",
    "# calc_sample(root)\n",
    "brightness(root)"
   ]
  },
  {
   "cell_type": "code",
   "execution_count": null,
   "id": "d1d7e83b",
   "metadata": {},
   "outputs": [],
   "source": [
    "img"
   ]
  },
  {
   "cell_type": "code",
   "execution_count": null,
   "id": "fc9a0a5c",
   "metadata": {},
   "outputs": [],
   "source": []
  }
 ],
 "metadata": {
  "kernelspec": {
   "display_name": "Python 3 (ipykernel)",
   "language": "python",
   "name": "python3"
  },
  "language_info": {
   "codemirror_mode": {
    "name": "ipython",
    "version": 3
   },
   "file_extension": ".py",
   "mimetype": "text/x-python",
   "name": "python",
   "nbconvert_exporter": "python",
   "pygments_lexer": "ipython3",
   "version": "3.7.12"
  }
 },
 "nbformat": 4,
 "nbformat_minor": 5
}
