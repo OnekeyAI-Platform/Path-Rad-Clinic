{
 "cells": [
  {
   "cell_type": "markdown",
   "metadata": {},
   "source": [
    "## 统计分析\n",
    "\n",
    "通过指定统计分析字段，得到每个特征的p_value，所有的p_value计算都是基于Ttest计算。支持指定不同的分组`group`，例如train、val、test等分组统计。\n",
    "\n",
    "对于两大类不同的特征\n",
    "\n",
    "1. 离散特征，统计数量以及占比。\n",
    "2. 连续特征，统计均值、方差。"
   ]
  },
  {
   "cell_type": "code",
   "execution_count": null,
   "metadata": {},
   "outputs": [],
   "source": [
    "import pandas as pd\n",
    "import numpy as np\n",
    "from onekey_algo import OnekeyDS as okds\n",
    "from onekey_algo import get_param_in_cwd\n",
    "from onekey_algo.custom.utils import print_join_info\n",
    "\n",
    "def append20(x):\n",
    "    if not x.startswith('X') and len(str(x)) == 6:\n",
    "        return f\"20{x}\"\n",
    "    return x\n",
    "\n",
    "task = 'HRR_ANY'\n",
    "# 修改成自己临床数据的文件。\n",
    "test_data = pd.read_csv('data/CPGEA-TCGA 20230106 OK.csv')\n",
    "isup = pd.read_csv('data/isup.csv')\n",
    "test_data = pd.merge(test_data, isup, on='ID', how='inner')\n",
    "stats_columns = ['age_at_diagnosis', 'psa_value', 'pathologic_T', 'pathologic_N', 'pathologic_M', 'residual_tumor', 'ISUP']\n",
    "test_data = test_data[['ID', task, 'group'] + stats_columns]\n",
    "test_data['ID'] = test_data['ID'].astype(str)\n",
    "test_data['residual_tumor'] = test_data['residual_tumor'].astype(str)\n",
    "test_data"
   ]
  },
  {
   "cell_type": "code",
   "execution_count": null,
   "metadata": {},
   "outputs": [],
   "source": [
    "test_data.columns"
   ]
  },
  {
   "cell_type": "markdown",
   "metadata": {},
   "source": [
    "# 数据映射\n",
    "\n",
    "针对所有非数值形式的数据，可以进行类别映射。"
   ]
  },
  {
   "cell_type": "code",
   "execution_count": null,
   "metadata": {},
   "outputs": [],
   "source": [
    "np.unique(test_data['residual_tumor'])"
   ]
  },
  {
   "cell_type": "code",
   "execution_count": null,
   "metadata": {},
   "outputs": [],
   "source": [
    "pt_map = {'T2a': 2,\n",
    "  'T2b': 2,\n",
    "  'T2c': 2,\n",
    "  'T3a': 3,\n",
    "  'T3b': 3,\n",
    "  'T4': 4,\n",
    "  'pT2': 2,\n",
    "  'pT2a': 2,\n",
    "  'pT2b': 2,\n",
    "  'pT2c': 2,\n",
    "  'pT3a': 3,\n",
    "  'pT3b': 3,\n",
    "  'pT4': 4,\n",
    "  'Tx':5}\n",
    "test_data['pathologic_T'] = test_data['pathologic_T'].map(lambda x: pt_map[x] if x in pt_map else np.nan)"
   ]
  },
  {
   "cell_type": "code",
   "execution_count": null,
   "metadata": {},
   "outputs": [],
   "source": [
    "pn_map = {'N0': 0,\n",
    "  'N1': 1,\n",
    "  'pN0': 0,\n",
    "  'pN1': 1,\n",
    "  'pNX': 2,\n",
    "  'pNx': 2,\n",
    "  'pn0': 0}\n",
    "test_data['pathologic_N'] = test_data['pathologic_N'].map(lambda x: pn_map[x] if x in pn_map else np.nan)"
   ]
  },
  {
   "cell_type": "code",
   "execution_count": null,
   "metadata": {},
   "outputs": [],
   "source": [
    "pm_map = {'pM0': 0, 'pM1a': 1, 'pM1b': 1, 'pMx': 2}\n",
    "test_data['pathologic_M'] = test_data['pathologic_M'].map(lambda x: pm_map[x] if x in pm_map else np.nan)"
   ]
  },
  {
   "cell_type": "code",
   "execution_count": null,
   "metadata": {},
   "outputs": [],
   "source": [
    "pm_map = {'NO': 1, 'R0': 1, 'R1': 1, 'YES': 0, 'R2':0, 'RX': 2, 'nan':2}\n",
    "test_data['residual_tumor'] = test_data['residual_tumor'].map(lambda x: pm_map[x] if x in pm_map else np.nan)"
   ]
  },
  {
   "cell_type": "code",
   "execution_count": null,
   "metadata": {},
   "outputs": [],
   "source": [
    "test_data"
   ]
  },
  {
   "cell_type": "markdown",
   "metadata": {},
   "source": [
    "# 缺失值填充"
   ]
  },
  {
   "cell_type": "code",
   "execution_count": null,
   "metadata": {},
   "outputs": [],
   "source": [
    "from onekey_algo.custom.components.comp1 import fillna\n",
    "test_data = fillna(test_data, fill_mod='50%')\n",
    "test_data"
   ]
  },
  {
   "cell_type": "markdown",
   "metadata": {},
   "source": [
    "### 输出格式\n",
    "支持两种格式数据，分别对应`pretty`参数的`True`和`False`, 当为`True`时，输出的是表格模式，反之则为dict数据。\n",
    "\n",
    "```python\n",
    "def clinic_stats(data: DataFrame, stats_columns: Union[str, List[str]], label_column='label',\n",
    "                 group_column: str = None, continuous_columns: Union[str, List[str]] = None,\n",
    "                 pretty: bool = True) -> Union[dict, DataFrame]:\n",
    "    \"\"\"\n",
    "\n",
    "    Args:\n",
    "        data: 数据\n",
    "        stats_columns: 需要统计的列名\n",
    "        label_column: 二分类的标签列，默认`label`\n",
    "        group_column: 分组统计依据，例如区分训练组、测试组、验证组。\n",
    "        continuous_columns: 那些列是连续变量，连续变量统计均值方差。\n",
    "        pretty: bool, 是否对结果进行格式美化。\n",
    "\n",
    "    Returns:\n",
    "        stats DataFrame or json\n",
    "\n",
    "    \"\"\"\n",
    "```"
   ]
  },
  {
   "cell_type": "code",
   "execution_count": null,
   "metadata": {
    "scrolled": false
   },
   "outputs": [],
   "source": [
    "from onekey_algo.custom.components.stats import clinic_stats\n",
    "stats = clinic_stats(test_data, \n",
    "                     stats_columns= stats_columns,\n",
    "                     label_column=task, \n",
    "                     group_column='group', \n",
    "                     continuous_columns= ['age_at_diagnosis', 'psa_value'], \n",
    "                     pretty=True)\n",
    "stats.to_csv('stats.csv', index=False, encoding='utf_8_sig')\n",
    "stats"
   ]
  },
  {
   "cell_type": "code",
   "execution_count": null,
   "metadata": {},
   "outputs": [],
   "source": [
    "test_data[['ID', task, 'group'] + stats_columns].to_csv('features/clinical_sel.csv', index=False)"
   ]
  },
  {
   "cell_type": "code",
   "execution_count": null,
   "metadata": {},
   "outputs": [],
   "source": [
    "test_data"
   ]
  },
  {
   "cell_type": "code",
   "execution_count": null,
   "metadata": {},
   "outputs": [],
   "source": []
  }
 ],
 "metadata": {
  "kernelspec": {
   "display_name": "Python 3 (ipykernel)",
   "language": "python",
   "name": "python3"
  },
  "language_info": {
   "codemirror_mode": {
    "name": "ipython",
    "version": 3
   },
   "file_extension": ".py",
   "mimetype": "text/x-python",
   "name": "python",
   "nbconvert_exporter": "python",
   "pygments_lexer": "ipython3",
   "version": "3.7.12"
  }
 },
 "nbformat": 4,
 "nbformat_minor": 4
}
