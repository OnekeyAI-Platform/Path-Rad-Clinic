{
 "cells": [
  {
   "cell_type": "code",
   "execution_count": null,
   "id": "321dd425",
   "metadata": {},
   "outputs": [],
   "source": [
    "import pandas as pd\n",
    "import shutil\n",
    "import os\n",
    "import numpy as np\n",
    "import matplotlib.pyplot as plt\n",
    "import onekey_algo.custom.components as okcomp\n",
    "from onekey_algo import get_param_in_cwd\n",
    "\n",
    "plt.rcParams['figure.dpi'] = 300\n",
    "model_names = ['Clinic_Sig', 'Pathology_Sig', 'Nomogram']\n",
    "# 获取配置\n",
    "task = 'label'\n",
    "bst_model = 'LightGBM'\n",
    "labelf = 'group.csv'\n",
    "group_info = 'group'\n",
    "\n",
    "# 读取label文件。\n",
    "labels = [task]\n",
    "label_data_ = pd.read_csv(labelf)\n",
    "label_data_['ID'] = label_data_['ID'].astype(str)\n",
    "label_data_ = label_data_[['ID', group_info, task]]\n",
    "label_data_ = label_data_.dropna(axis=0)\n",
    "\n",
    "ids = label_data_['ID']\n",
    "print(label_data_.columns)\n",
    "label_data = label_data_[['ID'] + labels]\n",
    "\n",
    "label_data"
   ]
  },
  {
   "cell_type": "markdown",
   "id": "ac5ee2cf",
   "metadata": {},
   "source": [
    "# 训练集-汇总"
   ]
  },
  {
   "cell_type": "code",
   "execution_count": null,
   "id": "08658c13",
   "metadata": {},
   "outputs": [],
   "source": [
    "import pandas as pd\n",
    "\n",
    "subset = 'train'\n",
    "Clinic_results = pd.merge(pd.read_csv(f'./results/Clinical_{bst_model}_{subset}.csv', header=0, dtype={'ID':str}), \n",
    "                          label_data, on='ID', how='inner')\n",
    "Path_results = pd.merge(pd.read_csv(f'./results/Path_{bst_model}_{subset}.csv', header=0, dtype={'ID':str}), \n",
    "                        label_data, on='ID', how='inner')\n",
    "\n",
    "ALL_results = pd.merge(Clinic_results, Path_results, on='ID', how='inner')\n",
    "ALL_results.columns = ['ID', '-0', 'Clinic_Sig', task, '-00', 'Pathology_Sig', '-l']\n",
    "\n",
    "ALL_results = ALL_results.dropna(axis=1)\n",
    "ALL_results"
   ]
  },
  {
   "cell_type": "code",
   "execution_count": null,
   "id": "07de275b",
   "metadata": {},
   "outputs": [],
   "source": [
    "from sklearn.linear_model import LogisticRegression\n",
    "from sklearn.svm import SVC\n",
    "from onekey_algo.custom.components import metrics\n",
    "\n",
    "model = LogisticRegression(random_state=0)\n",
    "# model = SVC(probability=True, random_state=0)\n",
    "data_x = ALL_results[['Clinic_Sig', 'Pathology_Sig']]\n",
    "data_y = ALL_results[task]\n",
    "model.fit(data_x, data_y)\n",
    "results = model.predict_proba(data_x)\n",
    "results = pd.DataFrame(results, index=ALL_results['ID'], columns=[f'{task}-0', f'{task}-1']).reset_index()\n",
    "results.to_csv(f'./results/Nomo_{subset}.csv', index=False, header=True)\n",
    "pd.DataFrame([metrics.analysis_pred_binary(ALL_results[task], results[f'{task}-1'])], \n",
    "                  columns=['acc', 'auc', '95%CI', 'Sensitivity', 'Specificity', 'PPV', 'NPV', 'Precision', 'Recall', 'F1', 'Threshold'])"
   ]
  },
  {
   "cell_type": "code",
   "execution_count": null,
   "id": "4e04731e",
   "metadata": {
    "scrolled": false
   },
   "outputs": [],
   "source": [
    "pred_column = [f'{task}-0', f'{task}-1']\n",
    "Nomo_results = pd.merge(pd.read_csv(f'./results/Nomo_{subset}.csv', header=0, dtype={'ID':str}), label_data, on='ID', how='inner')\n",
    "gt = [np.array(d) for d in [Clinic_results[labels], \n",
    "                            Path_results[labels],\n",
    "                            Nomo_results[labels]]]\n",
    "pred_train = [np.array(d) for d in [Clinic_results[pred_column], \n",
    "                                    Path_results[pred_column], \n",
    "                                    Nomo_results[pred_column]]]\n",
    "okcomp.comp1.draw_roc(gt, pred_train, labels=model_names, title=f\"Model AUC\")\n",
    "plt.savefig(f'img/{subset}_auc.svg')"
   ]
  },
  {
   "cell_type": "code",
   "execution_count": null,
   "id": "4826febd",
   "metadata": {},
   "outputs": [],
   "source": [
    "from onekey_algo.custom.components.metrics import analysis_pred_binary\n",
    "metric = []\n",
    "for mname, y, score in zip(model_names, gt, pred_train):\n",
    "    # 计算验证集指标\n",
    "    acc, auc, ci, tpr, tnr, ppv, npv, precision, recall, f1, thres = analysis_pred_binary(y, score)\n",
    "    ci = f\"{ci[0]:.4f} - {ci[1]:.4f}\"\n",
    "    metric.append((mname, acc, auc, ci, tpr, tnr, ppv, npv, precision, recall, f1, thres, f\"Train\"))\n",
    "pd.DataFrame(metric, index=None, columns=['Signature', 'Accuracy', 'AUC', '95% CI', 'Sensitivity', 'Specificity', \n",
    "                                          'PPV', 'NPV', 'Precision', 'Recall', 'F1','Threshold', 'Cohort'])"
   ]
  },
  {
   "cell_type": "code",
   "execution_count": null,
   "id": "69899f07",
   "metadata": {},
   "outputs": [],
   "source": [
    "from onekey_algo.custom.components.delong import delong_roc_test\n",
    "\n",
    "Nomo_results.columns = ['ID', '-00000', 'Nomogram', '-llll']\n",
    "ALL_results = pd.merge(ALL_results, Nomo_results, on='ID', how='inner')\n",
    "\n",
    "delong = []\n",
    "\n",
    "this_delong = []\n",
    "delong_columns = []\n",
    "for i, mni in enumerate(model_names):\n",
    "    for _, mnj in enumerate(model_names[i+1:]):\n",
    "        this_delong.append(delong_roc_test(ALL_results[task], ALL_results[mni], ALL_results[mnj])[0][0])\n",
    "        delong_columns.append(f\"{mni} Vs {mnj}\")\n",
    "this_delong.append('Train')\n",
    "delong_columns.append('cohort')\n",
    "delong.append(this_delong)\n",
    "pd.DataFrame(this_delong, index=delong_columns).T"
   ]
  },
  {
   "cell_type": "code",
   "execution_count": null,
   "id": "4045192a",
   "metadata": {},
   "outputs": [],
   "source": [
    "from onekey_algo.custom.components.comp1 import plot_DCA\n",
    "plot_DCA([ALL_results[f'Clinic_Sig'], \n",
    "          ALL_results[f'Pathology_Sig'],\n",
    "          ALL_results[f'Nomogram']], \n",
    "         ALL_results[task], title=f'Model for DCA', labels=model_names)\n",
    "plt.savefig(f'img/{subset}_dca.svg')"
   ]
  },
  {
   "cell_type": "code",
   "execution_count": null,
   "id": "40c40079",
   "metadata": {},
   "outputs": [],
   "source": [
    "from onekey_algo.custom.components.comp1 import draw_calibration\n",
    "draw_calibration(pred_scores=pred_train, n_bins=5,# smooth=True,\n",
    "                 y_test=gt, model_names=model_names)\n",
    "plt.savefig(f'img/{subset}_cali.svg')"
   ]
  },
  {
   "cell_type": "code",
   "execution_count": null,
   "id": "3ec7e842",
   "metadata": {},
   "outputs": [],
   "source": [
    "from onekey_algo.custom.components import stats\n",
    "\n",
    "hosmer = []\n",
    "hosmer.append([stats.hosmer_lemeshow_test(y_true, y_pred[:,1], bins=10) \n",
    "              for fn, y_true, y_pred in zip(model_names, gt, pred_train)])\n",
    "pd.DataFrame(hosmer, columns=model_names)"
   ]
  },
  {
   "cell_type": "markdown",
   "id": "a15e0641",
   "metadata": {},
   "source": [
    "# 绘制Nomogram"
   ]
  },
  {
   "cell_type": "code",
   "execution_count": null,
   "id": "25baa698",
   "metadata": {},
   "outputs": [],
   "source": [
    "from onekey_algo.custom.components import nomogram\n",
    "import shutil\n",
    "\n",
    "ALL_results = ALL_results.round(decimals=2)\n",
    "nomogram.risk_nomogram(ALL_results, result=task, columns=['Clinic_Sig', 'Pathology_Sig'], width=1200, height=400,\n",
    "                      x_range='0.01,0.25,0.5,0.75,0.99')"
   ]
  },
  {
   "cell_type": "markdown",
   "id": "d7e6b16f",
   "metadata": {},
   "source": [
    "# 验证集-汇总"
   ]
  },
  {
   "cell_type": "code",
   "execution_count": null,
   "id": "5c229cb5",
   "metadata": {},
   "outputs": [],
   "source": [
    "import pandas as pd\n",
    "\n",
    "subset = 'val'\n",
    "Clinic_results = pd.merge(pd.read_csv(f'./results/Clinical_{bst_model}_{subset}.csv', header=0, dtype={'ID':str}), \n",
    "                          label_data, on='ID', how='inner')\n",
    "Path_results = pd.merge(pd.read_csv(f'./results/Path_{bst_model}_{subset}.csv', header=0, dtype={'ID':str}), \n",
    "                        label_data, on='ID', how='inner')\n",
    "\n",
    "ALL_results = pd.merge(Clinic_results, Path_results, on='ID', how='inner')\n",
    "ALL_results.columns = ['ID', '-0', 'Clinic_Sig', task, '-00', 'Pathology_Sig', '-l']\n",
    "\n",
    "ALL_results = ALL_results.dropna(axis=1)\n",
    "ALL_results"
   ]
  },
  {
   "cell_type": "code",
   "execution_count": null,
   "id": "82e32135",
   "metadata": {},
   "outputs": [],
   "source": [
    "from sklearn.linear_model import LogisticRegression\n",
    "from sklearn.svm import SVC\n",
    "from onekey_algo.custom.components import metrics\n",
    "\n",
    "# model = LogisticRegression(random_state=0)\n",
    "# model = SVC(probability=True, random_state=0)\n",
    "data_x = ALL_results[['Clinic_Sig', 'Pathology_Sig']]\n",
    "data_y = ALL_results[task]\n",
    "# model.fit(data_x, data_y)\n",
    "results = model.predict_proba(data_x)\n",
    "results = pd.DataFrame(results, index=ALL_results['ID'], columns=[f'{task}-0', f'{task}-1']).reset_index()\n",
    "results.to_csv(f'./results/Nomo_{subset}.csv', index=False, header=True)\n",
    "pd.DataFrame([metrics.analysis_pred_binary(ALL_results[task], results[f'{task}-1'])], \n",
    "                  columns=['acc', 'auc', '95%CI', 'Sensitivity', 'Specificity', 'PPV', 'NPV', 'Precision', 'Recall', 'F1', 'Threshold'])"
   ]
  },
  {
   "cell_type": "code",
   "execution_count": null,
   "id": "34c0db9e",
   "metadata": {},
   "outputs": [],
   "source": [
    "pred_column = [f'{task}-0', f'{task}-1']\n",
    "Nomo_results = pd.merge(pd.read_csv(f'./results/Nomo_{subset}.csv', header=0, dtype={'ID':str}), label_data, on='ID', how='inner')\n",
    "gt = [np.array(d) for d in [Clinic_results[labels], \n",
    "                            Path_results[labels],\n",
    "                            Nomo_results[labels]]]\n",
    "pred_train = [np.array(d) for d in [Clinic_results[pred_column], \n",
    "                                    Path_results[pred_column], \n",
    "                                    Nomo_results[pred_column]]]\n",
    "okcomp.comp1.draw_roc(gt, pred_train, labels=model_names, title=f\"Model AUC\")\n",
    "plt.savefig(f'img/{subset}_auc.svg')"
   ]
  },
  {
   "cell_type": "code",
   "execution_count": null,
   "id": "dd3b5060",
   "metadata": {},
   "outputs": [],
   "source": [
    "from onekey_algo.custom.components.metrics import analysis_pred_binary\n",
    "for mname, y, score in zip(model_names, gt, pred_train):\n",
    "    # 计算验证集指标\n",
    "    acc, auc, ci, tpr, tnr, ppv, npv, precision, recall, f1, thres = analysis_pred_binary(y, score)\n",
    "    ci = f\"{ci[0]:.4f} - {ci[1]:.4f}\"\n",
    "    metric.append((mname, acc, auc, ci, tpr, tnr, ppv, npv, precision, recall, f1, thres, f\"Val\"))\n",
    "pd.DataFrame(metric, index=None, columns=['Signature', 'Accuracy', 'AUC', '95% CI',\n",
    "                                          'Sensitivity', 'Specificity', 'PPV', 'NPV', 'Precision', 'Recall', 'F1',\n",
    "                                          'Threshold', 'Cohort'])"
   ]
  },
  {
   "cell_type": "code",
   "execution_count": null,
   "id": "1337dcc9",
   "metadata": {},
   "outputs": [],
   "source": [
    "from onekey_algo.custom.components.delong import delong_roc_test\n",
    "\n",
    "Nomo_results.columns = ['ID', '-00000', 'Nomogram', '-llll']\n",
    "ALL_results = pd.merge(ALL_results, Nomo_results, on='ID', how='inner')\n",
    "\n",
    "this_delong = []\n",
    "delong_columns = []\n",
    "for i, mni in enumerate(model_names):\n",
    "    for _, mnj in enumerate(model_names[i+1:]):\n",
    "        this_delong.append(delong_roc_test(ALL_results[task], ALL_results[mni], ALL_results[mnj])[0][0])\n",
    "        delong_columns.append(f\"{mni} Vs {mnj}\")\n",
    "this_delong.append('Val')\n",
    "delong_columns.append('cohort')\n",
    "delong.append(this_delong)\n",
    "pd.DataFrame(delong, columns=delong_columns)"
   ]
  },
  {
   "cell_type": "code",
   "execution_count": null,
   "id": "87a0b901",
   "metadata": {},
   "outputs": [],
   "source": [
    "from onekey_algo.custom.components.comp1 import plot_DCA\n",
    "plot_DCA([ALL_results[f'Clinic_Sig'], \n",
    "          ALL_results[f'Pathology_Sig'],\n",
    "          ALL_results[f'Nomogram']], \n",
    "         ALL_results[task], title=f'Model for DCA', labels=model_names)\n",
    "plt.savefig(f'img/{subset}_dca.svg')"
   ]
  },
  {
   "cell_type": "code",
   "execution_count": null,
   "id": "06ec3d00",
   "metadata": {},
   "outputs": [],
   "source": [
    "from onekey_algo.custom.components.comp1 import draw_calibration\n",
    "draw_calibration(pred_scores=pred_train, n_bins=5, #smooth=True, # window_length=7,\n",
    "                 y_test=gt, model_names=model_names)\n",
    "plt.savefig(f'img/{subset}_cali.svg')"
   ]
  },
  {
   "cell_type": "code",
   "execution_count": null,
   "id": "98ab55f1",
   "metadata": {},
   "outputs": [],
   "source": [
    "from onekey_algo.custom.components import stats\n",
    "\n",
    "hosmer.append([stats.hosmer_lemeshow_test(y_true, y_pred[:,1], bins=10) \n",
    "              for fn, y_true, y_pred in zip(model_names, gt, pred_train)])\n",
    "pd.DataFrame(hosmer, columns=model_names)"
   ]
  },
  {
   "cell_type": "markdown",
   "id": "bdd19d5c",
   "metadata": {},
   "source": [
    "# 测试集-汇总"
   ]
  },
  {
   "cell_type": "code",
   "execution_count": null,
   "id": "f5e08e9d",
   "metadata": {
    "scrolled": false
   },
   "outputs": [],
   "source": [
    "import pandas as pd\n",
    "\n",
    "subset = 'test'\n",
    "Clinic_results = pd.merge(pd.read_csv(f'./results/Clinical_{bst_model}_{subset}.csv', header=0, dtype={'ID':str}), \n",
    "                          label_data, on='ID', how='inner')\n",
    "Path_results = pd.merge(pd.read_csv(f'./results/Path_{bst_model}_{subset}.csv', header=0, dtype={'ID':str}), \n",
    "                        label_data, on='ID', how='inner')\n",
    "\n",
    "ALL_results = pd.merge(Clinic_results, Path_results, on='ID', how='inner')\n",
    "ALL_results.columns = ['ID', '-0', 'Clinic_Sig', task, '-00', 'Pathology_Sig', '-l']\n",
    "\n",
    "ALL_results = ALL_results.dropna(axis=1)\n",
    "ALL_results"
   ]
  },
  {
   "cell_type": "code",
   "execution_count": null,
   "id": "72447b22",
   "metadata": {
    "scrolled": true
   },
   "outputs": [],
   "source": [
    "from sklearn.linear_model import LogisticRegression\n",
    "from sklearn.svm import SVC\n",
    "from onekey_algo.custom.components import metrics\n",
    "\n",
    "# model = LogisticRegression(random_state=0)\n",
    "# model = SVC(probability=True, random_state=0)\n",
    "data_x = ALL_results[['Clinic_Sig', 'Pathology_Sig']]\n",
    "data_y = ALL_results[task]\n",
    "# model.fit(data_x, data_y)\n",
    "results = model.predict_proba(data_x)\n",
    "results = pd.DataFrame(results, index=ALL_results['ID'], columns=[f'{task}-0', f'{task}-1']).reset_index()\n",
    "results.to_csv(f'./results/Nomo_{subset}.csv', index=False, header=True)\n",
    "pd.DataFrame([metrics.analysis_pred_binary(ALL_results[task], results[f'{task}-1'])], \n",
    "                  columns=['acc', 'auc', '95%CI', 'Sensitivity', 'Specificity', 'PPV', 'NPV', 'Precision', 'Recall', 'F1', 'Threshold'])"
   ]
  },
  {
   "cell_type": "code",
   "execution_count": null,
   "id": "db50df67",
   "metadata": {},
   "outputs": [],
   "source": [
    "pred_column = [f'{task}-0', f'{task}-1']\n",
    "Nomo_results = pd.merge(pd.read_csv(f'./results/Nomo_{subset}.csv', header=0, dtype={'ID':str}), label_data, on='ID', how='inner')\n",
    "gt = [np.array(d) for d in [Clinic_results[labels], \n",
    "                            Path_results[labels],\n",
    "                            Nomo_results[labels]]]\n",
    "pred_train = [np.array(d) for d in [Clinic_results[pred_column], \n",
    "                                    Path_results[pred_column], \n",
    "                                    Nomo_results[pred_column]]]\n",
    "okcomp.comp1.draw_roc(gt, pred_train, labels=model_names, title=f\"Model AUC\")\n",
    "plt.savefig(f'img/{subset}_auc.svg')"
   ]
  },
  {
   "cell_type": "code",
   "execution_count": null,
   "id": "cc97fa50",
   "metadata": {},
   "outputs": [],
   "source": [
    "from onekey_algo.custom.components.metrics import analysis_pred_binary\n",
    "for mname, y, score in zip(model_names, gt, pred_train):\n",
    "    # 计算验证集指标\n",
    "    acc, auc, ci, tpr, tnr, ppv, npv, precision, recall, f1, thres = analysis_pred_binary(y, score)\n",
    "    ci = f\"{ci[0]:.4f} - {ci[1]:.4f}\"\n",
    "    metric.append((mname, acc, auc, ci, tpr, tnr, ppv, npv, precision, recall, f1, thres, f\"Test\"))\n",
    "pd.DataFrame(metric, index=None, columns=['Signature', 'Accuracy', 'AUC', '95% CI',\n",
    "                                          'Sensitivity', 'Specificity', 'PPV', 'NPV', 'Precision', 'Recall', 'F1',\n",
    "                                          'Threshold', 'Cohort'])"
   ]
  },
  {
   "cell_type": "code",
   "execution_count": null,
   "id": "ff64306d",
   "metadata": {},
   "outputs": [],
   "source": [
    "from onekey_algo.custom.components.delong import delong_roc_test\n",
    "\n",
    "Nomo_results.columns = ['ID', '-00000', 'Nomogram', '-llll']\n",
    "ALL_results = pd.merge(ALL_results, Nomo_results, on='ID', how='inner')\n",
    "\n",
    "this_delong = []\n",
    "delong_columns = []\n",
    "for i, mni in enumerate(model_names):\n",
    "    for _, mnj in enumerate(model_names[i+1:]):\n",
    "        this_delong.append(delong_roc_test(ALL_results[task], ALL_results[mni], ALL_results[mnj])[0][0])\n",
    "        delong_columns.append(f\"{mni} Vs {mnj}\")\n",
    "this_delong.append('Test')\n",
    "delong_columns.append('cohort')\n",
    "delong.append(this_delong)\n",
    "pd.DataFrame(delong, columns=delong_columns)"
   ]
  },
  {
   "cell_type": "code",
   "execution_count": null,
   "id": "cadf93ad",
   "metadata": {},
   "outputs": [],
   "source": [
    "from onekey_algo.custom.components.comp1 import plot_DCA\n",
    "plot_DCA([ALL_results[f'Clinic_Sig'], \n",
    "          ALL_results[f'Pathology_Sig'], \n",
    "          ALL_results[f'Nomogram']], \n",
    "         ALL_results[task], title=f'Model for DCA', labels=model_names)\n",
    "plt.savefig(f'img/{subset}_dca.svg')"
   ]
  },
  {
   "cell_type": "code",
   "execution_count": null,
   "id": "8e5f2d88",
   "metadata": {
    "scrolled": false
   },
   "outputs": [],
   "source": [
    "from onekey_algo.custom.components.comp1 import draw_calibration\n",
    "draw_calibration(pred_scores=pred_train, n_bins=5, # smooth=True, window_length=9,\n",
    "                 y_test=gt, model_names=model_names)\n",
    "plt.savefig(f'img/{subset}_cali.svg')"
   ]
  },
  {
   "cell_type": "code",
   "execution_count": null,
   "id": "f9aebe4c",
   "metadata": {},
   "outputs": [],
   "source": [
    "from onekey_algo.custom.components import stats\n",
    "\n",
    "hosmer.append([stats.hosmer_lemeshow_test(y_true, y_pred[:,1], bins=10) \n",
    "              for fn, y_true, y_pred in zip(model_names, gt, pred_train)])\n",
    "pd.DataFrame(hosmer, columns=model_names)"
   ]
  },
  {
   "cell_type": "code",
   "execution_count": null,
   "id": "c00efe97",
   "metadata": {},
   "outputs": [],
   "source": []
  },
  {
   "cell_type": "code",
   "execution_count": null,
   "id": "9976a323",
   "metadata": {},
   "outputs": [],
   "source": []
  }
 ],
 "metadata": {
  "kernelspec": {
   "display_name": "Python 3 (ipykernel)",
   "language": "python",
   "name": "python3"
  },
  "language_info": {
   "codemirror_mode": {
    "name": "ipython",
    "version": 3
   },
   "file_extension": ".py",
   "mimetype": "text/x-python",
   "name": "python",
   "nbconvert_exporter": "python",
   "pygments_lexer": "ipython3",
   "version": "3.7.12"
  }
 },
 "nbformat": 4,
 "nbformat_minor": 5
}
