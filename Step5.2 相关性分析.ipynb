{
 "cells": [
  {
   "cell_type": "code",
   "execution_count": null,
   "id": "438880ee",
   "metadata": {},
   "outputs": [],
   "source": [
    "import pandas as pd\n",
    "\n",
    "sel_model = 'LightGBM'\n",
    "train = pd.read_csv(f'results/Path_{sel_model}_train.csv')\n",
    "val = pd.read_csv(f'results/Path_{sel_model}_val.csv')\n",
    "test = pd.read_csv(f'results/Path_{sel_model}_test.csv')\n",
    "data = pd.concat([train, val, test], axis=0)\n",
    "data['ID'] = data['ID'].astype(str)\n",
    "data = data[['ID', 'label-1']]\n",
    "data.columns = ['ID', 'Path_Sig']\n",
    "\n",
    "path = pd.read_csv('features/path_sel_features.csv')\n",
    "path['ID'] = path['ID'].astype(str)\n",
    "\n",
    "IHCset = pd.read_csv('data/IHCset.csv')\n",
    "IHCset['ID'] = IHCset['ID'].astype(str)\n",
    "# group_info = pd.read_csv('data/group.csv')\n",
    "# group_info['ID'] = group_info['ID'].map(append20)\n",
    "# data['ID'] = data['ID'].astype(str)\n",
    "# data = pd.merge(data['ID'], group_info, on='ID', how='inner')\n",
    "# data.to_csv('group.csv', index=False)"
   ]
  },
  {
   "cell_type": "code",
   "execution_count": null,
   "id": "9a5075f5",
   "metadata": {},
   "outputs": [],
   "source": [
    "join_data = pd.merge(data, path, on='ID', how='inner')\n",
    "join_data = pd.merge(join_data, IHCset, on='ID', how='inner')\n",
    "join_data.corr().to_csv('results/ALL_feature_corr.csv', index=False)\n",
    "join_data"
   ]
  },
  {
   "cell_type": "code",
   "execution_count": null,
   "id": "38fdd945",
   "metadata": {},
   "outputs": [],
   "source": [
    "import seaborn as sns\n",
    "import matplotlib.pyplot as plt\n",
    "from onekey_algo.custom.components.comp1 import draw_matrix\n",
    "plt.figure(figsize=(20.0, 16.0))\n",
    "\n",
    "# 选择可视化的相关系数\n",
    "draw_matrix(join_data.corr(), annot=True, cmap='YlGnBu', cbar=False)\n",
    "plt.savefig(f'img/ALL_feature_corr.svg', bbox_inches = 'tight')"
   ]
  },
  {
   "cell_type": "code",
   "execution_count": null,
   "id": "be876c5d",
   "metadata": {},
   "outputs": [],
   "source": []
  }
 ],
 "metadata": {
  "kernelspec": {
   "display_name": "Python 3 (ipykernel)",
   "language": "python",
   "name": "python3"
  },
  "language_info": {
   "codemirror_mode": {
    "name": "ipython",
    "version": 3
   },
   "file_extension": ".py",
   "mimetype": "text/x-python",
   "name": "python",
   "nbconvert_exporter": "python",
   "pygments_lexer": "ipython3",
   "version": "3.7.12"
  }
 },
 "nbformat": 4,
 "nbformat_minor": 5
}
